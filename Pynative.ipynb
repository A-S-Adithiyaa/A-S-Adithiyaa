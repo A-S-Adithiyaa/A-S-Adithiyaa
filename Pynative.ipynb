{
  "nbformat": 4,
  "nbformat_minor": 0,
  "metadata": {
    "colab": {
      "name": "Pynative.ipynb",
      "provenance": [],
      "collapsed_sections": [],
      "toc_visible": true,
      "authorship_tag": "ABX9TyOHPv/Z9sg8W0x4ZC2wr7OF",
      "include_colab_link": true
    },
    "kernelspec": {
      "name": "python3",
      "display_name": "Python 3"
    },
    "language_info": {
      "name": "python"
    }
  },
  "cells": [
    {
      "cell_type": "markdown",
      "metadata": {
        "id": "view-in-github",
        "colab_type": "text"
      },
      "source": [
        "<a href=\"https://colab.research.google.com/github/Adithiyaa-A-S/Adithiyaa-A-S/blob/main/Pynative.ipynb\" target=\"_parent\"><img src=\"https://colab.research.google.com/assets/colab-badge.svg\" alt=\"Open In Colab\"/></a>"
      ]
    },
    {
      "cell_type": "markdown",
      "metadata": {
        "id": "66JBSQKCjfz1"
      },
      "source": [
        "# Basic Exercises"
      ]
    },
    {
      "cell_type": "markdown",
      "metadata": {
        "id": "n_iV47gEYJQG"
      },
      "source": [
        "## Exercise-1\n",
        "### Given two integer numbers return their product. If the product is greater than 1000, then return their sum"
      ]
    },
    {
      "cell_type": "code",
      "metadata": {
        "colab": {
          "base_uri": "https://localhost:8080/"
        },
        "id": "PslrOLuGYYcE",
        "outputId": "e1ed8ff5-2610-4c3b-e05c-81861186174f"
      },
      "source": [
        "num1 = int(input(\"Enter first number: \"))\n",
        "num2 = int(input(\"Enter second number: \"))\n",
        "\n",
        "result = num1 * num2\n",
        "\n",
        "if result > 1000:\n",
        "  result = num1 + num2\n",
        "\n",
        "print(\"RESULT is,\", result)"
      ],
      "execution_count": null,
      "outputs": [
        {
          "output_type": "stream",
          "text": [
            "Enter first number: 40\n",
            "Enter second number: 30\n",
            "RESULT is, 70\n"
          ],
          "name": "stdout"
        }
      ]
    },
    {
      "cell_type": "markdown",
      "metadata": {
        "id": "2903r-9TY8RI"
      },
      "source": [
        "## Exercise-2\n",
        "### Given a range of the first 10 numbers, Iterate from the start number to the end number, and In each iteration print the sum of the current number and previous number"
      ]
    },
    {
      "cell_type": "code",
      "metadata": {
        "colab": {
          "base_uri": "https://localhost:8080/"
        },
        "id": "iM8OELAuZNVn",
        "outputId": "2af46eb8-f973-45d5-dccf-a29ec48a45ee"
      },
      "source": [
        "sum = previous = 0\n",
        "print(\"Printing current and previous number sum in a range(10)\")\n",
        "for i in range(10):\n",
        "  current = i\n",
        "  sum = previous + current\n",
        "  print(\"Current number\", current, \"Previous number\", previous, \"Sum:\", sum)\n",
        "  previous = current"
      ],
      "execution_count": null,
      "outputs": [
        {
          "output_type": "stream",
          "text": [
            "Printing current and previous number sum in a range(10)\n",
            "Current number 0 Previous number 0 Sum: 0\n",
            "Current number 1 Previous number 0 Sum: 1\n",
            "Current number 2 Previous number 1 Sum: 3\n",
            "Current number 3 Previous number 2 Sum: 5\n",
            "Current number 4 Previous number 3 Sum: 7\n",
            "Current number 5 Previous number 4 Sum: 9\n",
            "Current number 6 Previous number 5 Sum: 11\n",
            "Current number 7 Previous number 6 Sum: 13\n",
            "Current number 8 Previous number 7 Sum: 15\n",
            "Current number 9 Previous number 8 Sum: 17\n"
          ],
          "name": "stdout"
        }
      ]
    },
    {
      "cell_type": "markdown",
      "metadata": {
        "id": "kxVPQdkQaBgO"
      },
      "source": [
        "## Exercise 3\n",
        "### Given a string, display only those characters which are present at an even index number"
      ]
    },
    {
      "cell_type": "code",
      "metadata": {
        "colab": {
          "base_uri": "https://localhost:8080/"
        },
        "id": "xSYTcH-paNvl",
        "outputId": "17828b57-0672-4ce5-de12-f78c5aa5fb20"
      },
      "source": [
        "string = input(\"Enter a string: \")\n",
        "length = len(string)\n",
        "print(\"Orginal String is \", string)\n",
        "print(\"Printing only even index chars\")\n",
        "\n",
        "for i in range(0, length, 2):\n",
        "  print(string[i])"
      ],
      "execution_count": null,
      "outputs": [
        {
          "output_type": "stream",
          "text": [
            "Enter a string: pynative\n",
            "Orginal String is  pynative\n",
            "Printing only even index chars\n",
            "p\n",
            "n\n",
            "t\n",
            "v\n"
          ],
          "name": "stdout"
        }
      ]
    },
    {
      "cell_type": "markdown",
      "metadata": {
        "id": "nq9Ad9zba35k"
      },
      "source": [
        "\n",
        "## Exercise 4 \n",
        "### Given a string and an integer number n, remove characters from a string starting from zero up to n and return a new string"
      ]
    },
    {
      "cell_type": "code",
      "metadata": {
        "colab": {
          "base_uri": "https://localhost:8080/"
        },
        "id": "iphzoUNFbCCB",
        "outputId": "ad2181b3-8e8d-4a68-87e0-565e4eda7301"
      },
      "source": [
        "string = input(\"Enter a string: \")\n",
        "num = int(input(\"Enter an integer: \"))\n",
        "length = len(string)\n",
        "\n",
        "for i in range(-(length - num), 0):\n",
        "  print(string[i], end = \"\")"
      ],
      "execution_count": null,
      "outputs": [
        {
          "output_type": "stream",
          "text": [
            "Enter a string: pynative\n",
            "Enter an integer: 4\n",
            "tive"
          ],
          "name": "stdout"
        }
      ]
    },
    {
      "cell_type": "markdown",
      "metadata": {
        "id": "lbK4_gBSbmxd"
      },
      "source": [
        "## Exercise 5 \n",
        "### Given a list of numbers, return True if first and last number of a list is same"
      ]
    },
    {
      "cell_type": "code",
      "metadata": {
        "colab": {
          "base_uri": "https://localhost:8080/"
        },
        "id": "HxeezWVMb3Ne",
        "outputId": "e39195c0-66d5-4b89-a1f1-22ad2637ab64"
      },
      "source": [
        "lst = eval(input(\"Enter any list: \"))\n",
        "length = len(lst)\n",
        "\n",
        "result =  (lst[0] == lst[length - 1])\n",
        "\n",
        "print(\"Result is\", result)"
      ],
      "execution_count": null,
      "outputs": [
        {
          "output_type": "stream",
          "text": [
            "Enter any list: [10, 20, 30, 40, 50]\n",
            "Result is False\n"
          ],
          "name": "stdout"
        }
      ]
    },
    {
      "cell_type": "markdown",
      "metadata": {
        "id": "XkLqbgb8cNbv"
      },
      "source": [
        "## Exercise 6\n",
        "### Given a list of numbers, Iterate it and print only those numbers which are divisible of 5\n"
      ]
    },
    {
      "cell_type": "code",
      "metadata": {
        "colab": {
          "base_uri": "https://localhost:8080/"
        },
        "id": "e1By9htOcYtB",
        "outputId": "a606d265-225a-4f25-d5d8-c72bbe766fd5"
      },
      "source": [
        "lst = eval(input(\"Enter a list of numbers: \"))\n",
        "\n",
        "for item in lst:\n",
        "  if item % 5 == 0:\n",
        "    print(item)"
      ],
      "execution_count": null,
      "outputs": [
        {
          "output_type": "stream",
          "text": [
            "Enter a list of numbers: [10, 20, 33, 46, 55]\n",
            "10\n",
            "20\n",
            "55\n"
          ],
          "name": "stdout"
        }
      ]
    },
    {
      "cell_type": "markdown",
      "metadata": {
        "id": "jXcBFpb5ciuT"
      },
      "source": [
        "## Exercise 7\n",
        "### Return the count of sub-string “Emma” appears in the given string"
      ]
    },
    {
      "cell_type": "code",
      "metadata": {
        "colab": {
          "base_uri": "https://localhost:8080/"
        },
        "id": "3yDdn0s6crd1",
        "outputId": "0f0b66be-9264-4276-d534-b0b7458bc8e8"
      },
      "source": [
        "string = input(\"Enter a string: \")\n",
        "sub = \"Emma\"\n",
        "freq = string.count(sub)\n",
        "\n",
        "print(sub, \"appeared\", freq, \"times.\")"
      ],
      "execution_count": null,
      "outputs": [
        {
          "output_type": "stream",
          "text": [
            "Enter a string: Emma is good developer. Emma is a writer\n",
            "Emma appeared 2 times.\n"
          ],
          "name": "stdout"
        }
      ]
    },
    {
      "cell_type": "markdown",
      "metadata": {
        "id": "uTfWFArbc865"
      },
      "source": [
        "## Exercise 8\n",
        "### Print the following pattern"
      ]
    },
    {
      "cell_type": "code",
      "metadata": {
        "colab": {
          "base_uri": "https://localhost:8080/"
        },
        "id": "v__HTb8tdKBH",
        "outputId": "4bf46cd0-1191-4be8-af10-d44a83392804"
      },
      "source": [
        "for i in range(1, 6):\n",
        "  print(str(i) * i)"
      ],
      "execution_count": null,
      "outputs": [
        {
          "output_type": "stream",
          "text": [
            "1\n",
            "22\n",
            "333\n",
            "4444\n",
            "55555\n"
          ],
          "name": "stdout"
        }
      ]
    },
    {
      "cell_type": "markdown",
      "metadata": {
        "id": "Mqjff2G_dTDv"
      },
      "source": [
        "## Exercise 9\n",
        "### Reverse a given number and return true if it is the same as the original number\n"
      ]
    },
    {
      "cell_type": "code",
      "metadata": {
        "colab": {
          "base_uri": "https://localhost:8080/"
        },
        "id": "iine0ie_d3yt",
        "outputId": "0aeb9432-927e-4ab9-f61e-2e6ea4fdca64"
      },
      "source": [
        "num = int(input(\"Enter an integer: \"))\n",
        "rev = 0\n",
        "temp = num\n",
        "while temp > 0:\n",
        "  rem = temp % 10\n",
        "  rev = rev * 10 + rem\n",
        "  temp //= 10\n",
        "\n",
        "if num == rev:\n",
        "  print(\"Reverse of\", num, \"is same\")\n",
        "else:\n",
        "  print(\"Reverse of\", num, \"is different\")"
      ],
      "execution_count": null,
      "outputs": [
        {
          "output_type": "stream",
          "text": [
            "Enter an integer: 125\n",
            "Reverse of 125 is different\n"
          ],
          "name": "stdout"
        }
      ]
    },
    {
      "cell_type": "markdown",
      "metadata": {
        "id": "5TLVZfNUf6Ff"
      },
      "source": [
        "## Exercise 10\n",
        "### Given a two list of numbers create a new list such that new list should contain only odd numbers from the first list and even numbers from the second list"
      ]
    },
    {
      "cell_type": "code",
      "metadata": {
        "colab": {
          "base_uri": "https://localhost:8080/"
        },
        "id": "mjHYil_GgaNX",
        "outputId": "975373a8-2b6d-4761-d780-524d266b5b71"
      },
      "source": [
        "lst1 = eval(input(\"Enter first list: \"))\n",
        "lst2 = eval(input(\"Enter second list: \"))\n",
        "\n",
        "result = []\n",
        "\n",
        "for item in lst1:\n",
        "  if item % 2 != 0:\n",
        "    result.append(item)\n",
        "\n",
        "for item in lst2:\n",
        "  if item % 2 == 0:\n",
        "    result.append(item)\n",
        "\n",
        "print(\"The resultant list is,\", result)"
      ],
      "execution_count": null,
      "outputs": [
        {
          "output_type": "stream",
          "text": [
            "Enter first list: [10, 20, 23, 11, 17]\n",
            "Enter second list: [13, 43, 24, 36, 12]\n",
            "The resultant list is, [23, 11, 17, 24, 36, 12]\n"
          ],
          "name": "stdout"
        }
      ]
    },
    {
      "cell_type": "markdown",
      "metadata": {
        "id": "25769ZQ2g-C7"
      },
      "source": [
        "## Exercise 11\n",
        "### Write a code to extract each digit from an integer, in the reverse order"
      ]
    },
    {
      "cell_type": "code",
      "metadata": {
        "colab": {
          "base_uri": "https://localhost:8080/"
        },
        "id": "lgMN8whDhqch",
        "outputId": "1af623e3-234f-4969-ea26-2c70fbe35eb2"
      },
      "source": [
        "num = int(input(\"Enter an integer: \"))\n",
        "num_string = str(num)\n",
        "\n",
        "for i in range(-1, -(len(num_string) + 1), -1):\n",
        "  print(num_string[i], end = \" \")"
      ],
      "execution_count": null,
      "outputs": [
        {
          "output_type": "stream",
          "text": [
            "Enter an integer: 7536\n",
            "6 3 5 7 "
          ],
          "name": "stdout"
        }
      ]
    },
    {
      "cell_type": "code",
      "metadata": {
        "colab": {
          "base_uri": "https://localhost:8080/"
        },
        "id": "J0dYXaP0iLmr",
        "outputId": "d756c892-4c53-4cdf-9488-7af7cd34e74c"
      },
      "source": [
        "num = int(input(\"Enter an integer: \"))\n",
        "while num > 0:\n",
        "  digit = num % 10\n",
        "  num = num // 10\n",
        "  print(digit, end = \" \")"
      ],
      "execution_count": null,
      "outputs": [
        {
          "output_type": "stream",
          "text": [
            "Enter an integer: 7536\n",
            "6 3 5 7 "
          ],
          "name": "stdout"
        }
      ]
    },
    {
      "cell_type": "markdown",
      "metadata": {
        "id": "TqUuZpA_ip_j"
      },
      "source": [
        "## Exercise 12\n",
        "### Calculate income tax for the given income by adhering to the below rules\n",
        "\n"
      ]
    },
    {
      "cell_type": "code",
      "metadata": {
        "colab": {
          "base_uri": "https://localhost:8080/"
        },
        "id": "_XYcsw6bi2tP",
        "outputId": "79f51ad1-4f7e-4cce-8d54-79c2f4e36c7b"
      },
      "source": [
        "income = int(input(\"Enter your income: \"))\n",
        "tax = 0\n",
        "num = income\n",
        "\n",
        "if num > 10000:\n",
        "  num -= 10000\n",
        "  tax += 10000 * 0\n",
        "  \n",
        "if num > 10000:\n",
        "  num -= 10000\n",
        "  tax += 10000 * 0.1\n",
        "\n",
        "if num > 0:\n",
        "  tax += num * 0.2\n",
        "\n",
        "else:\n",
        "  tax = 0\n",
        "\n",
        "print(\"Tax payable for $\", income, \" is $\", tax)"
      ],
      "execution_count": null,
      "outputs": [
        {
          "output_type": "stream",
          "text": [
            "Enter your income: 45000\n",
            "Tax payable for $ 45000  is $ 6000.0\n"
          ],
          "name": "stdout"
        }
      ]
    },
    {
      "cell_type": "markdown",
      "metadata": {
        "id": "h994AtzSlAvg"
      },
      "source": [
        "## Exercise 13\n",
        "### Print multiplication table form 1 to 10"
      ]
    },
    {
      "cell_type": "code",
      "metadata": {
        "colab": {
          "base_uri": "https://localhost:8080/"
        },
        "id": "Zv-OTasDlG_P",
        "outputId": "224ac864-f818-4bcb-c541-5f540dde1052"
      },
      "source": [
        "for i in range(1, 11):\n",
        "  for j in range(1, 11):\n",
        "    print(i * j, end = \"\\t\")\n",
        "  print()"
      ],
      "execution_count": null,
      "outputs": [
        {
          "output_type": "stream",
          "text": [
            "1\t2\t3\t4\t5\t6\t7\t8\t9\t10\t\n",
            "2\t4\t6\t8\t10\t12\t14\t16\t18\t20\t\n",
            "3\t6\t9\t12\t15\t18\t21\t24\t27\t30\t\n",
            "4\t8\t12\t16\t20\t24\t28\t32\t36\t40\t\n",
            "5\t10\t15\t20\t25\t30\t35\t40\t45\t50\t\n",
            "6\t12\t18\t24\t30\t36\t42\t48\t54\t60\t\n",
            "7\t14\t21\t28\t35\t42\t49\t56\t63\t70\t\n",
            "8\t16\t24\t32\t40\t48\t56\t64\t72\t80\t\n",
            "9\t18\t27\t36\t45\t54\t63\t72\t81\t90\t\n",
            "10\t20\t30\t40\t50\t60\t70\t80\t90\t100\t\n"
          ],
          "name": "stdout"
        }
      ]
    },
    {
      "cell_type": "markdown",
      "metadata": {
        "id": "2n4hKMy4lagq"
      },
      "source": [
        "## Exercise 14\n",
        "### Print downward Half-Pyramid Pattern with Star (asterisk)"
      ]
    },
    {
      "cell_type": "code",
      "metadata": {
        "colab": {
          "base_uri": "https://localhost:8080/"
        },
        "id": "PUwbabOollpE",
        "outputId": "56b92b6d-e5e8-4f95-87b4-888f088030e1"
      },
      "source": [
        "for i in range(5, 0, -1):\n",
        "  for j in range(i):\n",
        "    print(\"*\", end = \" \")\n",
        "  print()"
      ],
      "execution_count": null,
      "outputs": [
        {
          "output_type": "stream",
          "text": [
            "* * * * * \n",
            "* * * * \n",
            "* * * \n",
            "* * \n",
            "* \n"
          ],
          "name": "stdout"
        }
      ]
    },
    {
      "cell_type": "markdown",
      "metadata": {
        "id": "pGaCdfBLl7M-"
      },
      "source": [
        "## Exercise 15\n",
        "### Write a function called exponent(base, exp) that returns an int value of base raises to the power of exp"
      ]
    },
    {
      "cell_type": "code",
      "metadata": {
        "colab": {
          "base_uri": "https://localhost:8080/"
        },
        "id": "VdeHHC-yn8GG",
        "outputId": "bf840036-4a78-4295-b1eb-ab46bc403cc5"
      },
      "source": [
        "def exponent(base, exp):\n",
        "  return base ** exp\n",
        "\n",
        "b = int(input(\"Enter the base value: \"))\n",
        "e = int(input(\"Enter the exponent value: \"))\n",
        "\n",
        "print(\"Result: \", exponent(b, e))"
      ],
      "execution_count": null,
      "outputs": [
        {
          "output_type": "stream",
          "text": [
            "Enter the base value: 5\n",
            "Enter the exponent value: 4\n",
            "Result:  625\n"
          ],
          "name": "stdout"
        }
      ]
    },
    {
      "cell_type": "markdown",
      "metadata": {
        "id": "GPmzE-7UkQaW"
      },
      "source": [
        "# Python I/P and O/P"
      ]
    },
    {
      "cell_type": "markdown",
      "metadata": {
        "id": "rd0KJd_ykb9v"
      },
      "source": [
        "## Exercise 1\n",
        "### Accept two numbers from the user and calculate multiplication"
      ]
    },
    {
      "cell_type": "code",
      "metadata": {
        "colab": {
          "base_uri": "https://localhost:8080/"
        },
        "id": "RPQop8N6k-K7",
        "outputId": "bb98d5d0-207c-4179-e3b5-501f9dde41be"
      },
      "source": [
        "num1 = float(input(\"Enter first number: \"))\n",
        "num2 = float(input(\"Enter second number: \"))\n",
        "\n",
        "result = num1 * num2\n",
        "\n",
        "print(num1, \"x\", num2, \"=\", result)"
      ],
      "execution_count": null,
      "outputs": [
        {
          "output_type": "stream",
          "text": [
            "Enter first number: 3.5\n",
            "Enter second number: 5\n",
            "3.5 x 5.0 = 17.5\n"
          ],
          "name": "stdout"
        }
      ]
    },
    {
      "cell_type": "markdown",
      "metadata": {
        "id": "ZyocfSjklQBs"
      },
      "source": [
        "## Exercise 2\n",
        "### Display “My Name Is James” as “My ** Name ** Is ** James” using output formatting of a print() function"
      ]
    },
    {
      "cell_type": "code",
      "metadata": {
        "colab": {
          "base_uri": "https://localhost:8080/"
        },
        "id": "HTqnk07zlbPn",
        "outputId": "050a8ad4-fcbc-4d82-9913-934fc2bd7965"
      },
      "source": [
        "print(\"My\", \"Name\", \"Is\", \"James\", sep = \"**\")"
      ],
      "execution_count": null,
      "outputs": [
        {
          "output_type": "stream",
          "text": [
            "My**Name**Is**James\n"
          ],
          "name": "stdout"
        }
      ]
    },
    {
      "cell_type": "markdown",
      "metadata": {
        "id": "LTMGX4rTl3fj"
      },
      "source": [
        "## Exercise 3\n",
        "### Convert decimal number to octal using print() output formatting"
      ]
    },
    {
      "cell_type": "code",
      "metadata": {
        "colab": {
          "base_uri": "https://localhost:8080/"
        },
        "id": "LxbEjadJmOBD",
        "outputId": "b7874bfe-4a97-4f07-db50-7a6968dedbd5"
      },
      "source": [
        "num = int(input(\"Enter a decimal number: \"))\n",
        "\n",
        "print(\"%o\" % num)"
      ],
      "execution_count": null,
      "outputs": [
        {
          "output_type": "stream",
          "text": [
            "Enter a decimal number: 8\n",
            "10\n"
          ],
          "name": "stdout"
        }
      ]
    },
    {
      "cell_type": "markdown",
      "metadata": {
        "id": "VVZdBOTJmazr"
      },
      "source": [
        "## Exercise 4\n",
        "### Display float number with 2 decimal places using print()"
      ]
    },
    {
      "cell_type": "code",
      "metadata": {
        "colab": {
          "base_uri": "https://localhost:8080/"
        },
        "id": "g7RQCym3nXx-",
        "outputId": "b689ccaa-b5c1-4585-85fd-59e0358cd6c7"
      },
      "source": [
        "decimal = float(input(\"Enter a floating point number: \"))\n",
        "\n",
        "print(\"%.2f\" % decimal)"
      ],
      "execution_count": null,
      "outputs": [
        {
          "output_type": "stream",
          "text": [
            "Enter a floating point number: 458.541315\n",
            "458.54\n"
          ],
          "name": "stdout"
        }
      ]
    },
    {
      "cell_type": "markdown",
      "metadata": {
        "id": "jyc132c0njR2"
      },
      "source": [
        "## Exercise 5\n",
        "### Accept a list of 5 float numbers as an input from the user"
      ]
    },
    {
      "cell_type": "code",
      "metadata": {
        "colab": {
          "base_uri": "https://localhost:8080/"
        },
        "id": "IFK9NQqinueN",
        "outputId": "571b5fa6-3a49-46fe-82d4-25a28341a270"
      },
      "source": [
        "lst = []\n",
        "\n",
        "print(\"Enter 5 foating point numbers: \")\n",
        "for i in range(5):\n",
        "  n = float(input())\n",
        "  lst.append(n)\n",
        "\n",
        "print(lst)"
      ],
      "execution_count": null,
      "outputs": [
        {
          "output_type": "stream",
          "text": [
            "Enter 5 foating point numbers: \n",
            "4.6\n",
            "56.7\n",
            "45.4\n",
            "345.3\n",
            "45.7\n",
            "[4.6, 56.7, 45.4, 345.3, 45.7]\n"
          ],
          "name": "stdout"
        }
      ]
    },
    {
      "cell_type": "markdown",
      "metadata": {
        "id": "5OsdqsbeoBcA"
      },
      "source": [
        "## Exercise 7\n",
        "### Accept any three string from one input() call"
      ]
    },
    {
      "cell_type": "code",
      "metadata": {
        "colab": {
          "base_uri": "https://localhost:8080/"
        },
        "id": "X25FfgRGomsx",
        "outputId": "08c50f58-a00b-4052-ef94-216f8c48a769"
      },
      "source": [
        "s1, s2, s3 = input(\"Enter any string: \").split()\n",
        "\n",
        "print(s1, s2, s3)"
      ],
      "execution_count": null,
      "outputs": [
        {
          "output_type": "stream",
          "text": [
            "Enter any string: Hello there !\n",
            "Hello there !\n"
          ],
          "name": "stdout"
        }
      ]
    },
    {
      "cell_type": "markdown",
      "metadata": {
        "id": "Reysrggoo1OO"
      },
      "source": [
        "## Exercise 8\n",
        "### Format the following data using a string.format() method."
      ]
    },
    {
      "cell_type": "code",
      "metadata": {
        "colab": {
          "base_uri": "https://localhost:8080/"
        },
        "id": "BRoduOgYpAqs",
        "outputId": "ad757091-9059-4b24-a313-8752efa3ae69"
      },
      "source": [
        "totalMoney = 1000\n",
        "quantity = 3\n",
        "price = 450\n",
        "\n",
        "print(\"I have {0} dollars so I can buy {1} football for {2} dollars.\".format(totalMoney, quantity, price))"
      ],
      "execution_count": null,
      "outputs": [
        {
          "output_type": "stream",
          "text": [
            "I have 1000 dollars so I can buy 3 football for 450 dollars.\n"
          ],
          "name": "stdout"
        }
      ]
    },
    {
      "cell_type": "markdown",
      "metadata": {
        "id": "lrYgnJ0KMB3Y"
      },
      "source": [
        "# Functions"
      ]
    },
    {
      "cell_type": "markdown",
      "metadata": {
        "id": "9cfYIbQJMFDE"
      },
      "source": [
        "## Exercise 1\n",
        "### Create a function that can accept two arguments name and age and print its value"
      ]
    },
    {
      "cell_type": "code",
      "metadata": {
        "colab": {
          "base_uri": "https://localhost:8080/"
        },
        "id": "aOcYVL0JMKUT",
        "outputId": "54bb3ca0-80c7-4ce7-9460-aa1791beaed1"
      },
      "source": [
        "def build_profile(name, age):\n",
        "  print(\"Name:\", name)\n",
        "  print(\"Age:\", age)\n",
        "\n",
        "build_profile(\"Ben\", 25)"
      ],
      "execution_count": 1,
      "outputs": [
        {
          "output_type": "stream",
          "text": [
            "Name: Ben\n",
            "Age: 25\n"
          ],
          "name": "stdout"
        }
      ]
    },
    {
      "cell_type": "markdown",
      "metadata": {
        "id": "zYtmz7iaMckc"
      },
      "source": [
        "## Exercise 2\n",
        "### Write a function func1() such that it can accept a variable length of  argument and print all arguments value"
      ]
    },
    {
      "cell_type": "code",
      "metadata": {
        "colab": {
          "base_uri": "https://localhost:8080/"
        },
        "id": "X6BoIUpnMo7n",
        "outputId": "47afffdf-9f67-4657-ac1a-90fbf8036bc4"
      },
      "source": [
        "def func1(*values):\n",
        "  for element in values:\n",
        "    print(element)\n",
        "  print()\n",
        "  \n",
        "func1(20, 40, 60)\n",
        "func1(80, 100)"
      ],
      "execution_count": 4,
      "outputs": [
        {
          "output_type": "stream",
          "text": [
            "20\n",
            "40\n",
            "60\n",
            "\n",
            "80\n",
            "100\n",
            "\n"
          ],
          "name": "stdout"
        }
      ]
    },
    {
      "cell_type": "markdown",
      "metadata": {
        "id": "Yrol9PvEM5B6"
      },
      "source": [
        "## Exercise 3\n",
        "### Write a function calculation() such that it can accept two variables and calculate the addition and subtraction of them. And also it must return both addition and subtraction in a single return call"
      ]
    },
    {
      "cell_type": "code",
      "metadata": {
        "colab": {
          "base_uri": "https://localhost:8080/"
        },
        "id": "HKYWfFZMNDU4",
        "outputId": "7f1ae6c4-ca65-44b3-d38a-3d936b9132f3"
      },
      "source": [
        "def calculation(num1, num2):\n",
        "  add_result = num1 + num2\n",
        "  if num1 < num2:\n",
        "    num1, num2 = num2, num1\n",
        "  sub_result = num1 - num2\n",
        "  return add_result, sub_result\n",
        "\n",
        "add, sub = calculation(40, 10)\n",
        "print(add)\n",
        "print(sub)"
      ],
      "execution_count": 6,
      "outputs": [
        {
          "output_type": "stream",
          "text": [
            "50\n",
            "30\n"
          ],
          "name": "stdout"
        }
      ]
    },
    {
      "cell_type": "markdown",
      "metadata": {
        "id": "EPeiWBZFNtnf"
      },
      "source": [
        "## Exercise 4\n",
        "### Create a function showEmployee() in such a way that it should accept employee name, and its salary and display both. If the salary is missing in the function call assign default value 9000 to salary"
      ]
    },
    {
      "cell_type": "code",
      "metadata": {
        "colab": {
          "base_uri": "https://localhost:8080/"
        },
        "id": "8-3s-2ZBN-Wi",
        "outputId": "625cfc79-b5f1-45cc-e12c-f4cc4dc628a4"
      },
      "source": [
        "def showEmployee(name, salary = 9000):\n",
        "  print(\"Employee\", name, \"salary is\", salary)\n",
        "\n",
        "showEmployee(\"Ben\", 10000)\n",
        "showEmployee(\"Ben\")"
      ],
      "execution_count": 7,
      "outputs": [
        {
          "output_type": "stream",
          "text": [
            "Employee Ben salary is 10000\n",
            "Employee Ben salary is 9000\n"
          ],
          "name": "stdout"
        }
      ]
    },
    {
      "cell_type": "markdown",
      "metadata": {
        "id": "2BdSnI27OfWW"
      },
      "source": [
        "## Exercise 5\n",
        "### Create an inner function to calculate the addition in the following way\n",
        "####Create an outer function that will accept two parameters, a and b\n",
        "####Create an inner function inside an outer function that will calculate the addition of a and b\n",
        "####At last, an outer function will add 5 into addition and return it"
      ]
    },
    {
      "cell_type": "code",
      "metadata": {
        "colab": {
          "base_uri": "https://localhost:8080/"
        },
        "id": "nQ0UfFqiOZU6",
        "outputId": "1a9fbabe-304a-46d4-e367-16d1e6ba3f42"
      },
      "source": [
        "def outer_func(a, b):\n",
        "  sum = 0\n",
        "  def inner_func():\n",
        "    sum = a + b\n",
        "  inner_func()\n",
        "  sum = sum + 5\n",
        "  return sum\n",
        "  \n",
        "print(outer_func(1, 2))"
      ],
      "execution_count": 10,
      "outputs": [
        {
          "output_type": "stream",
          "text": [
            "5\n"
          ],
          "name": "stdout"
        }
      ]
    },
    {
      "cell_type": "markdown",
      "metadata": {
        "id": "eGYx23i5Rp3p"
      },
      "source": [
        "## Exercise 6\n",
        "### Write a recursive function to calculate the sum of numbers from 0 to 10"
      ]
    },
    {
      "cell_type": "code",
      "metadata": {
        "colab": {
          "base_uri": "https://localhost:8080/"
        },
        "id": "C_TbkIQ7SHvo",
        "outputId": "60f96f71-ef15-4599-d127-6d174b32018c"
      },
      "source": [
        "def Sum(num):\n",
        "  if num == 1:\n",
        "    return 1\n",
        "  else:\n",
        "    return num + Sum(num-1)\n",
        "\n",
        "Sum(10)"
      ],
      "execution_count": 12,
      "outputs": [
        {
          "output_type": "execute_result",
          "data": {
            "text/plain": [
              "55"
            ]
          },
          "metadata": {
            "tags": []
          },
          "execution_count": 12
        }
      ]
    },
    {
      "cell_type": "markdown",
      "metadata": {
        "id": "nZ12Wc9FS-2m"
      },
      "source": [
        "## Exercise 7\n",
        "### Assign a different name to function and call it through the new name"
      ]
    },
    {
      "cell_type": "code",
      "metadata": {
        "colab": {
          "base_uri": "https://localhost:8080/"
        },
        "id": "aClkxDxrTnyv",
        "outputId": "1eefe763-251b-43d8-ffba-4d83c8f94349"
      },
      "source": [
        "def displayStudent(name, age):\n",
        "    print(name, age)\n",
        "\n",
        "displayStudent(\"Emma\", 26)\n",
        "\n",
        "'''def showStudent(name, age):\n",
        "  displayStudent(name, age)'''\n",
        "showStudent = displayStudent\n",
        "\n",
        "showStudent(\"Emma\", 26)"
      ],
      "execution_count": 14,
      "outputs": [
        {
          "output_type": "stream",
          "text": [
            "Emma 26\n",
            "Emma 26\n"
          ],
          "name": "stdout"
        }
      ]
    },
    {
      "cell_type": "markdown",
      "metadata": {
        "id": "jYsWKYcFT1FV"
      },
      "source": [
        "## Exercise 8\n",
        "### Generate a Python list of all the even numbers between 4 to 30"
      ]
    },
    {
      "cell_type": "code",
      "metadata": {
        "colab": {
          "base_uri": "https://localhost:8080/"
        },
        "id": "-Lc8BxzYUbfS",
        "outputId": "72343197-c580-4205-cf80-7cd49525dc80"
      },
      "source": [
        "def gen_even(num1, num2):\n",
        "  lst = []\n",
        "  for i in range(num1, num2):\n",
        "    if i % 2 == 0:\n",
        "      lst.append(i)\n",
        "  print(lst)\n",
        "\n",
        "gen_even(4, 30)"
      ],
      "execution_count": 16,
      "outputs": [
        {
          "output_type": "stream",
          "text": [
            "[4, 6, 8, 10, 12, 14, 16, 18, 20, 22, 24, 26, 28]\n"
          ],
          "name": "stdout"
        }
      ]
    },
    {
      "cell_type": "markdown",
      "metadata": {
        "id": "sTaUhA8rU0wa"
      },
      "source": [
        "## Exercise 9\n",
        "### Return the largest item from the given list"
      ]
    },
    {
      "cell_type": "code",
      "metadata": {
        "colab": {
          "base_uri": "https://localhost:8080/"
        },
        "id": "xRFt7WWVU9Z0",
        "outputId": "2a9a45d5-5f88-4c3b-8ff5-5913b7a62060"
      },
      "source": [
        "def largest_in_list(lst):\n",
        "  max = lst[0]\n",
        "  for element in lst:\n",
        "    if element > max:\n",
        "      max = element\n",
        "  print(max)\n",
        "\n",
        "largest_in_list([4, 6, 8, 24, 12, 2])"
      ],
      "execution_count": 17,
      "outputs": [
        {
          "output_type": "stream",
          "text": [
            "24\n"
          ],
          "name": "stdout"
        }
      ]
    },
    {
      "cell_type": "code",
      "metadata": {
        "colab": {
          "base_uri": "https://localhost:8080/"
        },
        "id": "3f3TN7euVR_a",
        "outputId": "4ccd7cbd-4f0a-454d-d473-1ae454ffacc1"
      },
      "source": [
        "def largest_in_list(lst):\n",
        "  _max = max(lst)\n",
        "  print(_max)\n",
        "\n",
        "largest_in_list([4, 6, 8, 24, 12, 2])"
      ],
      "execution_count": 20,
      "outputs": [
        {
          "output_type": "stream",
          "text": [
            "24\n"
          ],
          "name": "stdout"
        }
      ]
    }
  ]
}