{
  "nbformat": 4,
  "nbformat_minor": 0,
  "metadata": {
    "colab": {
      "name": "Maths.ipynb",
      "provenance": [],
      "collapsed_sections": [],
      "authorship_tag": "ABX9TyOHDaH4BBG+TchixrhY0wqD",
      "include_colab_link": true
    },
    "kernelspec": {
      "name": "python3",
      "display_name": "Python 3"
    },
    "language_info": {
      "name": "python"
    }
  },
  "cells": [
    {
      "cell_type": "markdown",
      "metadata": {
        "id": "view-in-github",
        "colab_type": "text"
      },
      "source": [
        "<a href=\"https://colab.research.google.com/github/Adithiyaa-A-S/Adithiyaa-A-S/blob/main/Newtons%20Interpolation%20and%20Dividend%20automation.ipynb\" target=\"_parent\"><img src=\"https://colab.research.google.com/assets/colab-badge.svg\" alt=\"Open In Colab\"/></a>"
      ]
    },
    {
      "cell_type": "markdown",
      "metadata": {
        "id": "qJxCzdiAH-1d"
      },
      "source": [
        "# Forward and Backward Interpolation\n",
        "## Used for equal intervals of x"
      ]
    },
    {
      "cell_type": "code",
      "metadata": {
        "colab": {
          "base_uri": "https://localhost:8080/"
        },
        "id": "VW4Peq3_GsBY",
        "outputId": "24375c53-4e74-434f-9491-723203f33a21"
      },
      "source": [
        "# Provide x, y values and then provide the xth term to be found in xr\n",
        "x = [0, 2, 4, 6, 8, 10]\n",
        "y = [0, 4, 56, 204, 496, 980]\n",
        "xr = 7\n",
        "\n",
        "l = []\n",
        "considered_diffs = []\n",
        "h = x[1] - x[0]\n",
        "\n",
        "def factorial(num): #function that returns the factorial value\n",
        "  fact = 1\n",
        "  for i in range(num, 0, -1):\n",
        "    fact *= i\n",
        "  return fact\n",
        "\n",
        "for i in range(1, len(x)):\n",
        "  l.append(y[i] - y[i-1])\n",
        "considered_diffs.append(l)\n",
        "\n",
        "while l.count(0) != len(l) and len(l) != 1:\n",
        "  temp, l = l, []\n",
        "  for i in range(1, len(temp)):\n",
        "    l.append(temp[i] - temp[i-1])\n",
        "  considered_diffs.append(l)\n",
        "\n",
        "terms = len(considered_diffs)\n",
        "\n",
        "if xr <= (x[0] + x[-1]) / 2:\n",
        "  yr = y[0]\n",
        "  r = (xr - x[0]) / h\n",
        "  multipliers = r\n",
        "  for i in range(terms):\n",
        "    yr += float(considered_diffs[i][0] * multipliers / factorial(i+1))\n",
        "    multipliers *= (r-i-1)\n",
        "else:\n",
        "  yr = y[-1]\n",
        "  r = (xr - x[-1]) / h\n",
        "  multipliers = r\n",
        "  for i in range(terms):\n",
        "    yr += float(considered_diffs[i][-1] * multipliers / factorial(i+1))\n",
        "    multipliers *= (r+i+1)\n",
        "print(yr)"
      ],
      "execution_count": null,
      "outputs": [
        {
          "output_type": "stream",
          "text": [
            "329.0\n"
          ],
          "name": "stdout"
        }
      ]
    },
    {
      "cell_type": "markdown",
      "metadata": {
        "id": "JCeGLrc4SXSs"
      },
      "source": [
        "# Newtons dividend formula\n",
        "## Used for unequal intervals of x"
      ]
    },
    {
      "cell_type": "code",
      "metadata": {
        "colab": {
          "base_uri": "https://localhost:8080/"
        },
        "id": "1G329yGsH6EF",
        "outputId": "c51bfc7f-3698-4949-dbd1-c616ec9d7b94"
      },
      "source": [
        "# Provide x, y values and then provide the xth term to be found in xr\n",
        "x = [2, 4, 9, 10]\n",
        "y = [4, 56, 711, 980]\n",
        "xr = 7\n",
        "yr = y[0]\n",
        "\n",
        "l = []\n",
        "considered_diffs = []\n",
        "\n",
        "for i in range(1, len(x)):\n",
        "  l.append((y[i] - y[i-1]) / (x[i] - x[i-1]))\n",
        "considered_diffs.append(l)\n",
        "\n",
        "j = 0\n",
        "k = 2\n",
        "while l.count(0) != len(l) and len(l) != 1:\n",
        "  temp, l = l, []\n",
        "  for i in range(1, len(temp)):\n",
        "    l.append((temp[i] - temp[i-1]) / (x[i+j+1] - x[i+j+1-k]))\n",
        "  considered_diffs.append(l)\n",
        "  j += 1\n",
        "  k += 1\n",
        "\n",
        "multipliers = 1\n",
        "for i in range(len(considered_diffs)):\n",
        "  multipliers *= xr - x[i]\n",
        "  yr += multipliers * considered_diffs[i][0]\n",
        "\n",
        "print(yr)"
      ],
      "execution_count": null,
      "outputs": [
        {
          "output_type": "stream",
          "text": [
            "329.0\n"
          ],
          "name": "stdout"
        }
      ]
    },
    {
      "cell_type": "markdown",
      "metadata": {
        "id": "l7cpdgLDQWr1"
      },
      "source": [
        "# Combined result of both methods\n",
        "## Helps in predicting x value in either of the cases"
      ]
    },
    {
      "cell_type": "code",
      "metadata": {
        "colab": {
          "base_uri": "https://localhost:8080/"
        },
        "id": "LADmxjM8KZYS",
        "outputId": "e04fa20e-6151-4883-857e-93774d13294e"
      },
      "source": [
        "def find_x(x, y, xr):\n",
        "  interpolation = True\n",
        "  for i in range(2, len(x)):\n",
        "    if x[i] - x[i-1] != x[1] - x[0]:\n",
        "      interpolation = False\n",
        "      break\n",
        "\n",
        "  if interpolation:\n",
        "    l = []\n",
        "    considered_diffs = []\n",
        "    h = x[1] - x[0]\n",
        "\n",
        "    def factorial(num): #function that returns the factorial value\n",
        "      fact = 1\n",
        "      for i in range(num, 0, -1):\n",
        "        fact *= i\n",
        "      return fact\n",
        "\n",
        "    for i in range(1, len(x)):\n",
        "      l.append(y[i] - y[i-1])\n",
        "    considered_diffs.append(l)\n",
        "\n",
        "    while l.count(0) != len(l) and len(l) != 1:\n",
        "      temp, l = l, []\n",
        "      for i in range(1, len(temp)):\n",
        "        l.append(temp[i] - temp[i-1])\n",
        "      considered_diffs.append(l)\n",
        "\n",
        "    terms = len(considered_diffs)\n",
        "\n",
        "    if xr <= (x[0] + x[-1]) / 2:\n",
        "      yr = y[0]\n",
        "      r = (xr - x[0]) / h\n",
        "      multipliers = r\n",
        "      for i in range(terms):\n",
        "        yr += float(considered_diffs[i][0] * multipliers / factorial(i+1))\n",
        "        multipliers *= (r-i-1)\n",
        "    else:\n",
        "      yr = y[-1]\n",
        "      r = (xr - x[-1]) / h\n",
        "      multipliers = r\n",
        "      for i in range(terms):\n",
        "        yr += float(considered_diffs[i][-1] * multipliers / factorial(i+1))\n",
        "        multipliers *= (r+i+1)\n",
        "\n",
        "  else:\n",
        "    yr = y[0]\n",
        "    l = []\n",
        "    considered_diffs = []\n",
        "\n",
        "    for i in range(1, len(x)):\n",
        "      l.append((y[i] - y[i-1]) / (x[i] - x[i-1]))\n",
        "    considered_diffs.append(l)\n",
        "\n",
        "    j = 0\n",
        "    k = 2\n",
        "    while l.count(0) != len(l) and len(l) != 1:\n",
        "      temp, l = l, []\n",
        "      for i in range(1, len(temp)):\n",
        "        l.append((temp[i] - temp[i-1]) / (x[i+j+1] - x[i+j+1-k]))\n",
        "      considered_diffs.append(l)\n",
        "      j += 1\n",
        "      k += 1\n",
        "\n",
        "    multipliers = 1\n",
        "    for i in range(len(considered_diffs)):\n",
        "      multipliers *= xr - x[i]\n",
        "      yr += multipliers * considered_diffs[i][0]\n",
        "\n",
        "  return yr\n",
        "\n",
        "print(find_x([2, 4, 9, 10], [4, 56, 711, 980], 7))"
      ],
      "execution_count": 30,
      "outputs": [
        {
          "output_type": "stream",
          "text": [
            "329.0\n"
          ],
          "name": "stdout"
        }
      ]
    }
  ]
}